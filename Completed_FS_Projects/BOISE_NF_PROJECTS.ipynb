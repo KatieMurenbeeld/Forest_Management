{
 "cells": [
  {
   "cell_type": "markdown",
   "metadata": {},
   "source": [
    "## Code For Separating and Plotting Activity Sequences of Different Forest Service Projects Completed in Boise National Forest\n",
    "\n",
    "### AUTHOR: Katie Murenbeeld\n",
    "### DATE: 11 July 2019\n",
    "### UPDATED: "
   ]
  },
  {
   "cell_type": "code",
   "execution_count": 1,
   "metadata": {},
   "outputs": [],
   "source": [
    "# Import relevant libraries\n",
    "import pandas as pd\n",
    "import numpy as np\n",
    "import datetime as dt\n",
    "import matplotlib.pyplot as plt\n",
    "from matplotlib.pyplot import rcParams"
   ]
  },
  {
   "cell_type": "code",
   "execution_count": 2,
   "metadata": {},
   "outputs": [],
   "source": [
    "# Set up your data directories\n",
    "mod_data_dir = '/Users/kathrynmurenbeeld/CODING/FOREST-TREATMENTS/DATA/FOREST-TREATMENTS/MOD/'"
   ]
  },
  {
   "cell_type": "code",
   "execution_count": 3,
   "metadata": {},
   "outputs": [
    {
     "data": {
      "text/html": [
       "<div>\n",
       "<style scoped>\n",
       "    .dataframe tbody tr th:only-of-type {\n",
       "        vertical-align: middle;\n",
       "    }\n",
       "\n",
       "    .dataframe tbody tr th {\n",
       "        vertical-align: top;\n",
       "    }\n",
       "\n",
       "    .dataframe thead th {\n",
       "        text-align: right;\n",
       "    }\n",
       "</style>\n",
       "<table border=\"1\" class=\"dataframe\">\n",
       "  <thead>\n",
       "    <tr style=\"text-align: right;\">\n",
       "      <th></th>\n",
       "      <th>index</th>\n",
       "      <th>Unnamed: 0</th>\n",
       "      <th>ADMIN_FORE</th>\n",
       "      <th>ADMIN_REGI</th>\n",
       "      <th>ADMIN_FO_1</th>\n",
       "      <th>PROCLAIMED</th>\n",
       "      <th>ADMIN_DIST</th>\n",
       "      <th>ADMIN_DI_1</th>\n",
       "      <th>HOME_ORG</th>\n",
       "      <th>ACTIVITY_U</th>\n",
       "      <th>...</th>\n",
       "      <th>UK</th>\n",
       "      <th>EDW_INSERT</th>\n",
       "      <th>ETL_MODIFI</th>\n",
       "      <th>REV_DATE</th>\n",
       "      <th>GIS_ACRES</th>\n",
       "      <th>SHAPE_AREA</th>\n",
       "      <th>SHAPE_LEN</th>\n",
       "      <th>SerDatesPlan</th>\n",
       "      <th>SerDatesAccom</th>\n",
       "      <th>SerDatesComp</th>\n",
       "    </tr>\n",
       "  </thead>\n",
       "  <tbody>\n",
       "    <tr>\n",
       "      <th>0</th>\n",
       "      <td>0</td>\n",
       "      <td>3</td>\n",
       "      <td>12</td>\n",
       "      <td>4</td>\n",
       "      <td>Payette National Forest</td>\n",
       "      <td>412</td>\n",
       "      <td>New Meadows Ranger District</td>\n",
       "      <td>3</td>\n",
       "      <td>41203</td>\n",
       "      <td>41203</td>\n",
       "      <td>...</td>\n",
       "      <td>NaN</td>\n",
       "      <td>2018-06-25</td>\n",
       "      <td>2018-06-25</td>\n",
       "      <td>2009-03-23</td>\n",
       "      <td>34.187</td>\n",
       "      <td>0.000016</td>\n",
       "      <td>0.023130</td>\n",
       "      <td>1969-09-01</td>\n",
       "      <td>1969-09-01</td>\n",
       "      <td>1969-09-01</td>\n",
       "    </tr>\n",
       "    <tr>\n",
       "      <th>1</th>\n",
       "      <td>1</td>\n",
       "      <td>4</td>\n",
       "      <td>12</td>\n",
       "      <td>4</td>\n",
       "      <td>Payette National Forest</td>\n",
       "      <td>412</td>\n",
       "      <td>New Meadows Ranger District</td>\n",
       "      <td>3</td>\n",
       "      <td>41203</td>\n",
       "      <td>41203</td>\n",
       "      <td>...</td>\n",
       "      <td>NaN</td>\n",
       "      <td>2018-06-25</td>\n",
       "      <td>2018-06-25</td>\n",
       "      <td>2009-03-23</td>\n",
       "      <td>34.187</td>\n",
       "      <td>0.000016</td>\n",
       "      <td>0.023130</td>\n",
       "      <td>1985-09-01</td>\n",
       "      <td>1985-09-01</td>\n",
       "      <td>1985-09-01</td>\n",
       "    </tr>\n",
       "    <tr>\n",
       "      <th>2</th>\n",
       "      <td>2</td>\n",
       "      <td>20</td>\n",
       "      <td>12</td>\n",
       "      <td>4</td>\n",
       "      <td>Payette National Forest</td>\n",
       "      <td>412</td>\n",
       "      <td>Council Ranger District</td>\n",
       "      <td>1</td>\n",
       "      <td>41201</td>\n",
       "      <td>41201</td>\n",
       "      <td>...</td>\n",
       "      <td>NaN</td>\n",
       "      <td>2018-06-25</td>\n",
       "      <td>2018-06-25</td>\n",
       "      <td>2009-03-23</td>\n",
       "      <td>20.310</td>\n",
       "      <td>0.000009</td>\n",
       "      <td>0.026853</td>\n",
       "      <td>1977-08-01</td>\n",
       "      <td>1977-08-01</td>\n",
       "      <td>1977-08-01</td>\n",
       "    </tr>\n",
       "    <tr>\n",
       "      <th>3</th>\n",
       "      <td>3</td>\n",
       "      <td>33</td>\n",
       "      <td>17</td>\n",
       "      <td>1</td>\n",
       "      <td>Nez Perce - Clearwater National Forest</td>\n",
       "      <td>117</td>\n",
       "      <td>Slate Creek Ranger District</td>\n",
       "      <td>3</td>\n",
       "      <td>11701</td>\n",
       "      <td>11703</td>\n",
       "      <td>...</td>\n",
       "      <td>NaN</td>\n",
       "      <td>2018-06-25</td>\n",
       "      <td>2018-06-25</td>\n",
       "      <td>NaN</td>\n",
       "      <td>43.607</td>\n",
       "      <td>0.000020</td>\n",
       "      <td>0.022109</td>\n",
       "      <td>1981-09-01</td>\n",
       "      <td>1981-09-01</td>\n",
       "      <td>1981-09-01</td>\n",
       "    </tr>\n",
       "    <tr>\n",
       "      <th>4</th>\n",
       "      <td>4</td>\n",
       "      <td>56</td>\n",
       "      <td>5</td>\n",
       "      <td>1</td>\n",
       "      <td>NaN</td>\n",
       "      <td>105</td>\n",
       "      <td>North Fork Ranger District</td>\n",
       "      <td>3</td>\n",
       "      <td>11753</td>\n",
       "      <td>10503</td>\n",
       "      <td>...</td>\n",
       "      <td>NaN</td>\n",
       "      <td>2018-06-25</td>\n",
       "      <td>2018-06-25</td>\n",
       "      <td>NaN</td>\n",
       "      <td>20.703</td>\n",
       "      <td>0.000010</td>\n",
       "      <td>0.019169</td>\n",
       "      <td>1963-10-01</td>\n",
       "      <td>1963-10-01</td>\n",
       "      <td>1963-10-01</td>\n",
       "    </tr>\n",
       "  </tbody>\n",
       "</table>\n",
       "<p>5 rows × 73 columns</p>\n",
       "</div>"
      ],
      "text/plain": [
       "   index  Unnamed: 0  ADMIN_FORE  ADMIN_REGI  \\\n",
       "0      0           3          12           4   \n",
       "1      1           4          12           4   \n",
       "2      2          20          12           4   \n",
       "3      3          33          17           1   \n",
       "4      4          56           5           1   \n",
       "\n",
       "                               ADMIN_FO_1  PROCLAIMED  \\\n",
       "0                 Payette National Forest         412   \n",
       "1                 Payette National Forest         412   \n",
       "2                 Payette National Forest         412   \n",
       "3  Nez Perce - Clearwater National Forest         117   \n",
       "4                                     NaN         105   \n",
       "\n",
       "                    ADMIN_DIST  ADMIN_DI_1  HOME_ORG  ACTIVITY_U  ...  UK  \\\n",
       "0  New Meadows Ranger District           3     41203       41203  ... NaN   \n",
       "1  New Meadows Ranger District           3     41203       41203  ... NaN   \n",
       "2      Council Ranger District           1     41201       41201  ... NaN   \n",
       "3  Slate Creek Ranger District           3     11701       11703  ... NaN   \n",
       "4   North Fork Ranger District           3     11753       10503  ... NaN   \n",
       "\n",
       "   EDW_INSERT  ETL_MODIFI    REV_DATE GIS_ACRES  SHAPE_AREA SHAPE_LEN  \\\n",
       "0  2018-06-25  2018-06-25  2009-03-23    34.187    0.000016  0.023130   \n",
       "1  2018-06-25  2018-06-25  2009-03-23    34.187    0.000016  0.023130   \n",
       "2  2018-06-25  2018-06-25  2009-03-23    20.310    0.000009  0.026853   \n",
       "3  2018-06-25  2018-06-25         NaN    43.607    0.000020  0.022109   \n",
       "4  2018-06-25  2018-06-25         NaN    20.703    0.000010  0.019169   \n",
       "\n",
       "  SerDatesPlan SerDatesAccom SerDatesComp  \n",
       "0   1969-09-01    1969-09-01   1969-09-01  \n",
       "1   1985-09-01    1985-09-01   1985-09-01  \n",
       "2   1977-08-01    1977-08-01   1977-08-01  \n",
       "3   1981-09-01    1981-09-01   1981-09-01  \n",
       "4   1963-10-01    1963-10-01   1963-10-01  \n",
       "\n",
       "[5 rows x 73 columns]"
      ]
     },
     "execution_count": 3,
     "metadata": {},
     "output_type": "execute_result"
    }
   ],
   "source": [
    "# Read in the csv and check data\n",
    "df = pd.read_csv(mod_data_dir + 'TH_ID_ALL.csv').reset_index()\n",
    "df.head(5)"
   ]
  },
  {
   "cell_type": "code",
   "execution_count": 5,
   "metadata": {},
   "outputs": [
    {
     "data": {
      "text/html": [
       "<div>\n",
       "<style scoped>\n",
       "    .dataframe tbody tr th:only-of-type {\n",
       "        vertical-align: middle;\n",
       "    }\n",
       "\n",
       "    .dataframe tbody tr th {\n",
       "        vertical-align: top;\n",
       "    }\n",
       "\n",
       "    .dataframe thead th {\n",
       "        text-align: right;\n",
       "    }\n",
       "</style>\n",
       "<table border=\"1\" class=\"dataframe\">\n",
       "  <thead>\n",
       "    <tr style=\"text-align: right;\">\n",
       "      <th></th>\n",
       "      <th>ADMIN_FO_1</th>\n",
       "      <th>NEPA_PROJE</th>\n",
       "      <th>NEPA_DOC_N</th>\n",
       "      <th>IMPLEMENTA</th>\n",
       "      <th>LAND_SUITA</th>\n",
       "      <th>ACTIVITY_2</th>\n",
       "      <th>ACTIVITY_N</th>\n",
       "      <th>NBR_UNITS1</th>\n",
       "      <th>SerDatesPlan</th>\n",
       "      <th>SerDatesAccom</th>\n",
       "      <th>SerDatesComp</th>\n",
       "    </tr>\n",
       "  </thead>\n",
       "  <tbody>\n",
       "    <tr>\n",
       "      <th>18</th>\n",
       "      <td>Boise National Forest</td>\n",
       "      <td>2731</td>\n",
       "      <td>(PALS)SIXSHOOTER PROJECT</td>\n",
       "      <td>NaN</td>\n",
       "      <td>500</td>\n",
       "      <td>4220</td>\n",
       "      <td>Commercial Thin</td>\n",
       "      <td>11.0</td>\n",
       "      <td>2009-09-30</td>\n",
       "      <td>2009-09-30</td>\n",
       "      <td>NaN</td>\n",
       "    </tr>\n",
       "    <tr>\n",
       "      <th>60</th>\n",
       "      <td>Boise National Forest</td>\n",
       "      <td>2778</td>\n",
       "      <td>(PALS)WHITE FLAT RESOURCE MANAGEMENT PROJECT</td>\n",
       "      <td>RESILIENCY,MTN HOME WHITE FLAT KV</td>\n",
       "      <td>600</td>\n",
       "      <td>4220</td>\n",
       "      <td>Commercial Thin</td>\n",
       "      <td>25.0</td>\n",
       "      <td>2011-10-03</td>\n",
       "      <td>2012-02-21</td>\n",
       "      <td>NaN</td>\n",
       "    </tr>\n",
       "    <tr>\n",
       "      <th>89</th>\n",
       "      <td>Boise National Forest</td>\n",
       "      <td>06200301</td>\n",
       "      <td>NORTH KENNEDY-COTTONWOOD TS</td>\n",
       "      <td>NaN</td>\n",
       "      <td>500</td>\n",
       "      <td>4220</td>\n",
       "      <td>Commercial Thin</td>\n",
       "      <td>48.0</td>\n",
       "      <td>2001-01-14</td>\n",
       "      <td>2004-01-14</td>\n",
       "      <td>2007-09-15</td>\n",
       "    </tr>\n",
       "    <tr>\n",
       "      <th>109</th>\n",
       "      <td>Boise National Forest</td>\n",
       "      <td>22445</td>\n",
       "      <td>(PALS)MIDDLE FORK SALVAGE DECISION NOTICE</td>\n",
       "      <td>NaN</td>\n",
       "      <td>500</td>\n",
       "      <td>4231</td>\n",
       "      <td>Salvage Cut (intermediate treatment, not regen...</td>\n",
       "      <td>180.0</td>\n",
       "      <td>2008-07-15</td>\n",
       "      <td>2008-08-20</td>\n",
       "      <td>2008-10-24</td>\n",
       "    </tr>\n",
       "    <tr>\n",
       "      <th>230</th>\n",
       "      <td>Boise National Forest</td>\n",
       "      <td>06200301</td>\n",
       "      <td>NORTH KENNEDY-COTTONWOOD TS</td>\n",
       "      <td>NaN</td>\n",
       "      <td>500</td>\n",
       "      <td>4220</td>\n",
       "      <td>Commercial Thin</td>\n",
       "      <td>12.0</td>\n",
       "      <td>2005-08-15</td>\n",
       "      <td>2005-10-15</td>\n",
       "      <td>NaN</td>\n",
       "    </tr>\n",
       "  </tbody>\n",
       "</table>\n",
       "</div>"
      ],
      "text/plain": [
       "                ADMIN_FO_1 NEPA_PROJE  \\\n",
       "18   Boise National Forest       2731   \n",
       "60   Boise National Forest       2778   \n",
       "89   Boise National Forest   06200301   \n",
       "109  Boise National Forest      22445   \n",
       "230  Boise National Forest   06200301   \n",
       "\n",
       "                                       NEPA_DOC_N  \\\n",
       "18                       (PALS)SIXSHOOTER PROJECT   \n",
       "60   (PALS)WHITE FLAT RESOURCE MANAGEMENT PROJECT   \n",
       "89                    NORTH KENNEDY-COTTONWOOD TS   \n",
       "109     (PALS)MIDDLE FORK SALVAGE DECISION NOTICE   \n",
       "230                   NORTH KENNEDY-COTTONWOOD TS   \n",
       "\n",
       "                            IMPLEMENTA  LAND_SUITA  ACTIVITY_2  \\\n",
       "18                                 NaN         500        4220   \n",
       "60   RESILIENCY,MTN HOME WHITE FLAT KV         600        4220   \n",
       "89                                 NaN         500        4220   \n",
       "109                                NaN         500        4231   \n",
       "230                                NaN         500        4220   \n",
       "\n",
       "                                            ACTIVITY_N  NBR_UNITS1  \\\n",
       "18                                     Commercial Thin        11.0   \n",
       "60                                     Commercial Thin        25.0   \n",
       "89                                     Commercial Thin        48.0   \n",
       "109  Salvage Cut (intermediate treatment, not regen...       180.0   \n",
       "230                                    Commercial Thin        12.0   \n",
       "\n",
       "    SerDatesPlan SerDatesAccom SerDatesComp  \n",
       "18    2009-09-30    2009-09-30          NaN  \n",
       "60    2011-10-03    2012-02-21          NaN  \n",
       "89    2001-01-14    2004-01-14   2007-09-15  \n",
       "109   2008-07-15    2008-08-20   2008-10-24  \n",
       "230   2005-08-15    2005-10-15          NaN  "
      ]
     },
     "execution_count": 5,
     "metadata": {},
     "output_type": "execute_result"
    }
   ],
   "source": [
    "# Reduce the dataset by selecting the relevant columns\n",
    "df1 = df[['ADMIN_FO_1','NEPA_PROJE','NEPA_DOC_N','IMPLEMENTA','LAND_SUITA','ACTIVITY_2','ACTIVITY_N','NBR_UNITS1','SerDatesPlan','SerDatesAccom','SerDatesComp']]\n",
    "# Create a new variable/dataframe with only data from Boise National Forest\n",
    "bnf = df1.loc[df1['ADMIN_FO_1'] == 'Boise National Forest'].copy()\n",
    "bnf.head(5)"
   ]
  },
  {
   "cell_type": "code",
   "execution_count": 10,
   "metadata": {},
   "outputs": [
    {
     "data": {
      "text/plain": [
       "array(['(PALS)SIXSHOOTER PROJECT',\n",
       "       '(PALS)WHITE FLAT RESOURCE MANAGEMENT PROJECT',\n",
       "       'NORTH KENNEDY-COTTONWOOD TS',\n",
       "       '(PALS)MIDDLE FORK SALVAGE DECISION NOTICE',\n",
       "       'WILLIAMS CREEK SUMMER HOMES FUELS REDUCTION PROJECT',\n",
       "       'DEFAULT FOR NOT REQUIRED',\n",
       "       'WHISKEY CAMPO RESOURCE MANAGEMENT PROJECT',\n",
       "       '(PALS)WEST MOUNTAIN NORTH RECORD OF DECISION', 'MESA PROJECT',\n",
       "       '(PALS)SCRIVER CREEK INTEGRATED RESTORATION PROJECT',\n",
       "       '(PALS)AIRLINE VEGETATION MANAGEMENT PROJECT',\n",
       "       'ATLANTA SOUTH FUELS REDUCTION PROJECT',\n",
       "       '(PALS)LITTLE OPHIR HAZARDOUS FUELS REDUCTION PROJECT DECISION NOTICE & FONSI',\n",
       "       '(PALS)ROCK CREEK RESOURCE MANAGEMENT PROJECT',\n",
       "       '(PALS)UPPER MIDDLE FORK PAYETTE RIVER DECISION NOTICE AND FONSI',\n",
       "       '(PALS)ROADSIDE HAZARD TREE REMOVAL DECISION NOTICE &FONSI',\n",
       "       'AIRLINE PROJECT', 'SIXSHOOTER PROJECT',\n",
       "       'HOLLYWOOD SANITATION PROJECT',\n",
       "       '(PALS)MORES SOUTH FUEL REDUCTION PROJECT, DECISION NOTICE AND FONSI',\n",
       "       '(PALS)CAMPGROUND MOUNTAIN PINE BEETLE PREVENTION AND SUPPRESSION PROJECT',\n",
       "       'WARM SPRINGS RIDGE VEG. MGT. PROJECT',\n",
       "       '(PALS)WILLIAMS CREEK PROJECT DECISION MEMO', 'ROCK CREEK',\n",
       "       '(PALS)HIGH VALLEY INTEGRATED RESTORATION PROJECT',\n",
       "       '(PALS)BRUSH BOULDER',\n",
       "       '(PALS)TRINITY RIDGE FIRE ROADSIDE SALVAGE PROJECT DECISION MEMO',\n",
       "       'SILVER CREEK', 'PRINCE JOHN', 'NORTH FORK PAYETTE',\n",
       "       '(PALS)STAR RANCH FUELS REDUCTION PROJECT',\n",
       "       'BARBER FLAT VEG. MGT. PROJECT',\n",
       "       '(PALS)EAST FORK WARM SPRINGS RECOVERY',\n",
       "       'LOWER PARKS RESOURCE MANAGEMENT PROJECT',\n",
       "       '(PALS)LAKE CREEK STORM SALVAGE PROJECT', 'CE without DM',\n",
       "       '(PALS)YELLOW PINE BLOWDOWN',\n",
       "       '(PALS)RAINBOW POINT AND AMANITA CAMPGROUND FOREST HEALTH AND SAFETY IMPROVEMENT',\n",
       "       'JOHNSON RESOURCE MANAGEMENT PROJECT',\n",
       "       '(PALS)DEVELOPED CAMPGROUND, TRAILS AND ROADWAYS CLEANUP PROJECT',\n",
       "       '(PALS)PINE FLATS CAMPGROUND VEGETATION MANAGEMENT PLAN',\n",
       "       'OLA GRADE SANITATION PROJECT', '(PALS)AVELENE SALVAGE PROJECT',\n",
       "       '(PALS)OLA GRADE SANITATION PROJECT'], dtype=object)"
      ]
     },
     "execution_count": 10,
     "metadata": {},
     "output_type": "execute_result"
    }
   ],
   "source": [
    "# Create a list to reference the unique NEPA project names for Boise National Forest\n",
    "UniqueNames = bnf.NEPA_DOC_N.unique()\n",
    "UniqueNames"
   ]
  },
  {
   "cell_type": "code",
   "execution_count": 25,
   "metadata": {},
   "outputs": [],
   "source": [
    "# Define a function to separate the dataset by the NEPA project name.\n",
    "# This function will return the area treated by activity name and activity code\n",
    "\n",
    "def projectdf(projname):\n",
    "    test = bnf.loc[bnf['NEPA_DOC_N']== (projname)].copy()\n",
    "    print(projname)\n",
    "    print(test.groupby('ACTIVITY_N')['NBR_UNITS1'].sum())\n",
    "    print(test.groupby('ACTIVITY_2')['NBR_UNITS1'].sum())\n",
    "    return test\n",
    "\n",
    "# Define a function to plot the timing of the top three (by area treated) activities completed  \n",
    "# in the NEPA project.\n",
    "\n",
    "def plotNEPA(project,activity1=(),activity2=(),activity3=()):\n",
    "    data1 = project.dropna(subset=['SerDatesComp']).loc[project['ACTIVITY_2'] == activity1].copy()\n",
    "    xy1 = data1.groupby('SerDatesComp')['NBR_UNITS1'].sum().reset_index()\n",
    "    x1 = xy1['SerDatesComp'].values\n",
    "    y1 = xy1['NBR_UNITS1'].values\n",
    "    \n",
    "    data2 = project.dropna().loc[project['ACTIVITY_2'] == activity2].copy()\n",
    "    xy2 = data2.groupby('SerDatesComp')['NBR_UNITS1'].sum().reset_index()\n",
    "    x2 = xy2['SerDatesComp'].values\n",
    "    y2 = xy2['NBR_UNITS1'].values\n",
    "    \n",
    "    data3 = project.dropna().loc[project['ACTIVITY_2'] == activity3].copy()\n",
    "    xy3 = data3.groupby('SerDatesComp')['NBR_UNITS1'].sum().reset_index()\n",
    "    x3 = xy3['SerDatesComp'].values\n",
    "    y3 = xy3['NBR_UNITS1'].values\n",
    "    \n",
    "    plt.scatter(x1, y1)\n",
    "    plt.scatter(x2, y2)\n",
    "    plt.scatter(x3, y3)\n",
    "    plt.title('Test')\n",
    "    plt.xlabel('Date Completed')\n",
    "    plt.ylabel('Area Treated')\n",
    "    # extra plot specifics: title, x and y axis labels, etc.\n",
    "    plt.show()\n",
    "    return ([x1,y1],[x2,y2],[x3,y3])"
   ]
  },
  {
   "cell_type": "code",
   "execution_count": 26,
   "metadata": {},
   "outputs": [
    {
     "name": "stdout",
     "output_type": "stream",
     "text": [
      "(PALS)WHITE FLAT RESOURCE MANAGEMENT PROJECT\n",
      "ACTIVITY_N\n",
      "Commercial Thin    1338.0\n",
      "Name: NBR_UNITS1, dtype: float64\n",
      "ACTIVITY_2\n",
      "4220    1338.0\n",
      "Name: NBR_UNITS1, dtype: float64\n"
     ]
    }
   ],
   "source": [
    "# Create a new variable and run the function for the project of interest\n",
    "# This will create the variable that will go in the 'project' argument in the plotNEPA function\n",
    "\n",
    "WFRMP = projectdf('(PALS)WHITE FLAT RESOURCE MANAGEMENT PROJECT')"
   ]
  },
  {
   "cell_type": "code",
   "execution_count": 27,
   "metadata": {},
   "outputs": [
    {
     "data": {
      "image/png": "[encoded data removed]",
      "text/plain": [
       "<Figure size 432x288 with 1 Axes>"
      ]
     },
     "metadata": {
      "needs_background": "light"
     },
     "output_type": "display_data"
    },
    {
     "data": {
      "text/plain": [
       "([array(['2013-08-20'], dtype=object), array([990.])],\n",
       " [array([], dtype=object), array([], dtype=float64)],\n",
       " [array([], dtype=object), array([], dtype=float64)])"
      ]
     },
     "execution_count": 27,
     "metadata": {},
     "output_type": "execute_result"
    }
   ],
   "source": [
    "# Plot the Project Data\n",
    "\n",
    "plotNEPA(WFRMP, 4220)"
   ]
  },
  {
   "cell_type": "markdown",
   "metadata": {},
   "source": [
    "### Now go for it for the other projects!"
   ]
  },
  {
   "cell_type": "code",
   "execution_count": 30,
   "metadata": {},
   "outputs": [
    {
     "name": "stdout",
     "output_type": "stream",
     "text": [
      "(PALS)YELLOW PINE BLOWDOWN\n",
      "ACTIVITY_N\n",
      "Salvage Cut (intermediate treatment, not regeneration)    216.0\n",
      "Name: NBR_UNITS1, dtype: float64\n",
      "ACTIVITY_2\n",
      "4231    216.0\n",
      "Name: NBR_UNITS1, dtype: float64\n"
     ]
    },
    {
     "data": {
      "text/html": [
       "<div>\n",
       "<style scoped>\n",
       "    .dataframe tbody tr th:only-of-type {\n",
       "        vertical-align: middle;\n",
       "    }\n",
       "\n",
       "    .dataframe tbody tr th {\n",
       "        vertical-align: top;\n",
       "    }\n",
       "\n",
       "    .dataframe thead th {\n",
       "        text-align: right;\n",
       "    }\n",
       "</style>\n",
       "<table border=\"1\" class=\"dataframe\">\n",
       "  <thead>\n",
       "    <tr style=\"text-align: right;\">\n",
       "      <th></th>\n",
       "      <th>ADMIN_FO_1</th>\n",
       "      <th>NEPA_PROJE</th>\n",
       "      <th>NEPA_DOC_N</th>\n",
       "      <th>IMPLEMENTA</th>\n",
       "      <th>LAND_SUITA</th>\n",
       "      <th>ACTIVITY_2</th>\n",
       "      <th>ACTIVITY_N</th>\n",
       "      <th>NBR_UNITS1</th>\n",
       "      <th>SerDatesPlan</th>\n",
       "      <th>SerDatesAccom</th>\n",
       "      <th>SerDatesComp</th>\n",
       "    </tr>\n",
       "  </thead>\n",
       "  <tbody>\n",
       "    <tr>\n",
       "      <th>22425</th>\n",
       "      <td>Boise National Forest</td>\n",
       "      <td>51724</td>\n",
       "      <td>(PALS)YELLOW PINE BLOWDOWN</td>\n",
       "      <td>RESILIENCY</td>\n",
       "      <td>500</td>\n",
       "      <td>4231</td>\n",
       "      <td>Salvage Cut (intermediate treatment, not regen...</td>\n",
       "      <td>41.0</td>\n",
       "      <td>2017-05-01</td>\n",
       "      <td>2017-06-16</td>\n",
       "      <td>NaN</td>\n",
       "    </tr>\n",
       "    <tr>\n",
       "      <th>44181</th>\n",
       "      <td>Boise National Forest</td>\n",
       "      <td>51724</td>\n",
       "      <td>(PALS)YELLOW PINE BLOWDOWN</td>\n",
       "      <td>RESILIENCY</td>\n",
       "      <td>500</td>\n",
       "      <td>4231</td>\n",
       "      <td>Salvage Cut (intermediate treatment, not regen...</td>\n",
       "      <td>31.0</td>\n",
       "      <td>2017-05-01</td>\n",
       "      <td>2017-06-16</td>\n",
       "      <td>2017-09-08</td>\n",
       "    </tr>\n",
       "    <tr>\n",
       "      <th>73509</th>\n",
       "      <td>Boise National Forest</td>\n",
       "      <td>51724</td>\n",
       "      <td>(PALS)YELLOW PINE BLOWDOWN</td>\n",
       "      <td>RESILIENCY</td>\n",
       "      <td>500</td>\n",
       "      <td>4231</td>\n",
       "      <td>Salvage Cut (intermediate treatment, not regen...</td>\n",
       "      <td>41.0</td>\n",
       "      <td>2017-05-01</td>\n",
       "      <td>2017-06-16</td>\n",
       "      <td>NaN</td>\n",
       "    </tr>\n",
       "    <tr>\n",
       "      <th>95265</th>\n",
       "      <td>Boise National Forest</td>\n",
       "      <td>51724</td>\n",
       "      <td>(PALS)YELLOW PINE BLOWDOWN</td>\n",
       "      <td>RESILIENCY</td>\n",
       "      <td>500</td>\n",
       "      <td>4231</td>\n",
       "      <td>Salvage Cut (intermediate treatment, not regen...</td>\n",
       "      <td>31.0</td>\n",
       "      <td>2017-05-01</td>\n",
       "      <td>2017-06-16</td>\n",
       "      <td>2017-09-08</td>\n",
       "    </tr>\n",
       "    <tr>\n",
       "      <th>124593</th>\n",
       "      <td>Boise National Forest</td>\n",
       "      <td>51724</td>\n",
       "      <td>(PALS)YELLOW PINE BLOWDOWN</td>\n",
       "      <td>RESILIENCY</td>\n",
       "      <td>500</td>\n",
       "      <td>4231</td>\n",
       "      <td>Salvage Cut (intermediate treatment, not regen...</td>\n",
       "      <td>41.0</td>\n",
       "      <td>2017-05-01</td>\n",
       "      <td>2017-06-16</td>\n",
       "      <td>NaN</td>\n",
       "    </tr>\n",
       "    <tr>\n",
       "      <th>146349</th>\n",
       "      <td>Boise National Forest</td>\n",
       "      <td>51724</td>\n",
       "      <td>(PALS)YELLOW PINE BLOWDOWN</td>\n",
       "      <td>RESILIENCY</td>\n",
       "      <td>500</td>\n",
       "      <td>4231</td>\n",
       "      <td>Salvage Cut (intermediate treatment, not regen...</td>\n",
       "      <td>31.0</td>\n",
       "      <td>2017-05-01</td>\n",
       "      <td>2017-06-16</td>\n",
       "      <td>2017-09-08</td>\n",
       "    </tr>\n",
       "  </tbody>\n",
       "</table>\n",
       "</div>"
      ],
      "text/plain": [
       "                   ADMIN_FO_1 NEPA_PROJE                  NEPA_DOC_N  \\\n",
       "22425   Boise National Forest      51724  (PALS)YELLOW PINE BLOWDOWN   \n",
       "44181   Boise National Forest      51724  (PALS)YELLOW PINE BLOWDOWN   \n",
       "73509   Boise National Forest      51724  (PALS)YELLOW PINE BLOWDOWN   \n",
       "95265   Boise National Forest      51724  (PALS)YELLOW PINE BLOWDOWN   \n",
       "124593  Boise National Forest      51724  (PALS)YELLOW PINE BLOWDOWN   \n",
       "146349  Boise National Forest      51724  (PALS)YELLOW PINE BLOWDOWN   \n",
       "\n",
       "        IMPLEMENTA  LAND_SUITA  ACTIVITY_2  \\\n",
       "22425   RESILIENCY         500        4231   \n",
       "44181   RESILIENCY         500        4231   \n",
       "73509   RESILIENCY         500        4231   \n",
       "95265   RESILIENCY         500        4231   \n",
       "124593  RESILIENCY         500        4231   \n",
       "146349  RESILIENCY         500        4231   \n",
       "\n",
       "                                               ACTIVITY_N  NBR_UNITS1  \\\n",
       "22425   Salvage Cut (intermediate treatment, not regen...        41.0   \n",
       "44181   Salvage Cut (intermediate treatment, not regen...        31.0   \n",
       "73509   Salvage Cut (intermediate treatment, not regen...        41.0   \n",
       "95265   Salvage Cut (intermediate treatment, not regen...        31.0   \n",
       "124593  Salvage Cut (intermediate treatment, not regen...        41.0   \n",
       "146349  Salvage Cut (intermediate treatment, not regen...        31.0   \n",
       "\n",
       "       SerDatesPlan SerDatesAccom SerDatesComp  \n",
       "22425    2017-05-01    2017-06-16          NaN  \n",
       "44181    2017-05-01    2017-06-16   2017-09-08  \n",
       "73509    2017-05-01    2017-06-16          NaN  \n",
       "95265    2017-05-01    2017-06-16   2017-09-08  \n",
       "124593   2017-05-01    2017-06-16          NaN  \n",
       "146349   2017-05-01    2017-06-16   2017-09-08  "
      ]
     },
     "execution_count": 30,
     "metadata": {},
     "output_type": "execute_result"
    }
   ],
   "source": [
    "YPBD = projectdf('(PALS)YELLOW PINE BLOWDOWN')\n",
    "YPBD"
   ]
  },
  {
   "cell_type": "code",
   "execution_count": 29,
   "metadata": {},
   "outputs": [
    {
     "data": {
      "image/png": "[encoded data removed]",
      "text/plain": [
       "<Figure size 432x288 with 1 Axes>"
      ]
     },
     "metadata": {
      "needs_background": "light"
     },
     "output_type": "display_data"
    },
    {
     "data": {
      "text/plain": [
       "([array(['2017-09-08'], dtype=object), array([93.])],\n",
       " [array([], dtype=object), array([], dtype=float64)],\n",
       " [array([], dtype=object), array([], dtype=float64)])"
      ]
     },
     "execution_count": 29,
     "metadata": {},
     "output_type": "execute_result"
    }
   ],
   "source": [
    "plotNEPA(YPBD, 4231)"
   ]
  },
  {
   "cell_type": "code",
   "execution_count": 38,
   "metadata": {},
   "outputs": [
    {
     "name": "stdout",
     "output_type": "stream",
     "text": [
      "NORTH FORK PAYETTE\n",
      "ACTIVITY_N\n",
      "Commercial Thin    1200.0\n",
      "Name: NBR_UNITS1, dtype: float64\n",
      "ACTIVITY_2\n",
      "4220    1200.0\n",
      "Name: NBR_UNITS1, dtype: float64\n"
     ]
    }
   ],
   "source": [
    "NFP = projectdf('NORTH FORK PAYETTE')"
   ]
  },
  {
   "cell_type": "code",
   "execution_count": 39,
   "metadata": {},
   "outputs": [
    {
     "data": {
      "image/png": "[encoded data removed]",
      "text/plain": [
       "<Figure size 432x288 with 1 Axes>"
      ]
     },
     "metadata": {
      "needs_background": "light"
     },
     "output_type": "display_data"
    },
    {
     "data": {
      "text/plain": [
       "([array([], dtype=object), array([], dtype=float64)],\n",
       " [array([], dtype=object), array([], dtype=float64)],\n",
       " [array([], dtype=object), array([], dtype=float64)])"
      ]
     },
     "execution_count": 39,
     "metadata": {},
     "output_type": "execute_result"
    }
   ],
   "source": [
    "plotNEPA(NFP, 4220)"
   ]
  },
  {
   "cell_type": "code",
   "execution_count": 40,
   "metadata": {},
   "outputs": [
    {
     "name": "stdout",
     "output_type": "stream",
     "text": [
      "(PALS)WEST MOUNTAIN NORTH RECORD OF DECISION\n",
      "ACTIVITY_N\n",
      "Commercial Thin                                                            246.0\n",
      "Improvement Cut                                                            798.0\n",
      "Overstory Removal Cut (from advanced regeneration) (EA/RH/FH)                0.0\n",
      "Sanitation Cut                                                              45.0\n",
      "Shelterwood Establishment Cut (with or without leave trees) (EA/RH/NFH)    822.0\n",
      "Shelterwood Preparatory Cut (EA/NRH/NFH)                                   180.0\n",
      "Shelterwood Removal Cut (w/ leave trees) (EA/NRH/FH)                       135.0\n",
      "Single-tree Selection Cut (UA/RH/FH)                                        78.0\n",
      "Name: NBR_UNITS1, dtype: float64\n",
      "ACTIVITY_2\n",
      "4121    180.0\n",
      "4131    822.0\n",
      "4143      0.0\n",
      "4145    135.0\n",
      "4151     78.0\n",
      "4210    798.0\n",
      "4220    246.0\n",
      "4232     45.0\n",
      "Name: NBR_UNITS1, dtype: float64\n"
     ]
    }
   ],
   "source": [
    "WMNRoD = projectdf('(PALS)WEST MOUNTAIN NORTH RECORD OF DECISION')"
   ]
  },
  {
   "cell_type": "code",
   "execution_count": 41,
   "metadata": {},
   "outputs": [
    {
     "data": {
      "image/png": "[encoded data removed]",
      "text/plain": [
       "<Figure size 432x288 with 1 Axes>"
      ]
     },
     "metadata": {
      "needs_background": "light"
     },
     "output_type": "display_data"
    },
    {
     "data": {
      "text/plain": [
       "([array(['2007-09-15', '2008-09-15', '2010-09-15'], dtype=object),\n",
       "  array([315., 312., 195.])],\n",
       " [array([], dtype=object), array([], dtype=float64)],\n",
       " [array([], dtype=object), array([], dtype=float64)])"
      ]
     },
     "execution_count": 41,
     "metadata": {},
     "output_type": "execute_result"
    }
   ],
   "source": [
    "plotNEPA(WMNRoD, 4131, 4210, 4220)"
   ]
  },
  {
   "cell_type": "code",
   "execution_count": 42,
   "metadata": {},
   "outputs": [
    {
     "name": "stdout",
     "output_type": "stream",
     "text": [
      "(PALS)MIDDLE FORK SALVAGE DECISION NOTICE\n",
      "ACTIVITY_N\n",
      "Salvage Cut (intermediate treatment, not regeneration)    687.0\n",
      "Sanitation Cut                                            348.0\n",
      "Name: NBR_UNITS1, dtype: float64\n",
      "ACTIVITY_2\n",
      "4231    687.0\n",
      "4232    348.0\n",
      "Name: NBR_UNITS1, dtype: float64\n"
     ]
    }
   ],
   "source": [
    "MFSDN = projectdf('(PALS)MIDDLE FORK SALVAGE DECISION NOTICE')"
   ]
  },
  {
   "cell_type": "code",
   "execution_count": 43,
   "metadata": {},
   "outputs": [
    {
     "data": {
      "image/png": "[encoded data removed]",
      "text/plain": [
       "<Figure size 432x288 with 1 Axes>"
      ]
     },
     "metadata": {
      "needs_background": "light"
     },
     "output_type": "display_data"
    },
    {
     "data": {
      "text/plain": [
       "([array(['2008-10-24'], dtype=object), array([687.])],\n",
       " [array([], dtype=object), array([], dtype=float64)],\n",
       " [array([], dtype=object), array([], dtype=float64)])"
      ]
     },
     "execution_count": 43,
     "metadata": {},
     "output_type": "execute_result"
    }
   ],
   "source": [
    "plotNEPA(MFSDN, 4231, 4232)"
   ]
  },
  {
   "cell_type": "code",
   "execution_count": null,
   "metadata": {},
   "outputs": [],
   "source": []
  }
 ],
 "metadata": {
  "kernelspec": {
   "display_name": "Python 3",
   "language": "python",
   "name": "python3"
  },
  "language_info": {
   "codemirror_mode": {
    "name": "ipython",
    "version": 3
   },
   "file_extension": ".py",
   "mimetype": "text/x-python",
   "name": "python",
   "nbconvert_exporter": "python",
   "pygments_lexer": "ipython3",
   "version": "3.7.3"
  }
 },
 "nbformat": 4,
 "nbformat_minor": 2
}
